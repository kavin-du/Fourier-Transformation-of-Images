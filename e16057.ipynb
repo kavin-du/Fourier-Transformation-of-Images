{
 "cells": [
  {
   "cell_type": "code",
   "execution_count": null,
   "source": [
    "import numpy as np\n",
    "import cv2, math\n",
    "from matplotlib import pyplot as plt"
   ],
   "outputs": [],
   "metadata": {}
  },
  {
   "cell_type": "code",
   "execution_count": null,
   "source": [
    "# helper function for diplaying images\n",
    "def showImages(imgs, names, width=10, height=10):\n",
    "    # changing the size of canvas\n",
    "    plt.rcParams['figure.figsize'] = [width, height] \n",
    "\n",
    "    plot = 130\n",
    "    for i in range(len(imgs)):\n",
    "        plot += 1\n",
    "        plt.subplot(plot), plt.imshow(imgs[i], cmap='gray'), plt.title(names[i])\n",
    "    plt.tight_layout()\n",
    "    plt.show()\n"
   ],
   "outputs": [],
   "metadata": {}
  },
  {
   "cell_type": "code",
   "execution_count": null,
   "source": [
    "# function for creating a Laplacian mask for fourier domain\n",
    "def laplacianMask(shape, isComplex):\n",
    "    # isComplex value checks if the mask is created to deal with complex values, \n",
    "    # then we have to have 2 planes\n",
    "    if isComplex:\n",
    "        # mask with 2 planes because we have real and imaginary values in filter\n",
    "        mask = np.zeros((shape[0], shape[1], 2), dtype='float32')\n",
    "    else: \n",
    "        mask = np.zeros(shape, dtype='float32')\n",
    "\n",
    "    M = shape[0] # rows\n",
    "    N = shape[1] # cols\n",
    "\n",
    "    for i in range(M):\n",
    "        for j in range(N):\n",
    "            mask[i][j] = -((i-M/2)**2 + (j-N/2)**2) \n",
    "    return mask"
   ],
   "outputs": [],
   "metadata": {}
  },
  {
   "cell_type": "code",
   "execution_count": null,
   "source": [
    "# function for creating a ideal highpass filter mask for given D value\n",
    "def idealHighpassFilter(shape, D):\n",
    "    mask = np.zeros(shape, dtype='float32')\n",
    "    M = shape[0] # rows\n",
    "    N = shape[1] # cols\n",
    "    \n",
    "    for i in range(M):\n",
    "        for j in range(N):\n",
    "            mask[i][j] = 1 if math.sqrt((i-M/2)**2 + (j-N/2)**2) >= D else 0 \n",
    "    return mask"
   ],
   "outputs": [],
   "metadata": {}
  },
  {
   "cell_type": "code",
   "execution_count": null,
   "source": [
    "# function for creating a gausssian lowpass filter mask for given D value\n",
    "def gaussianLowpass(shape, D):\n",
    "    mask = np.zeros(shape, dtype='float32')\n",
    "    M = shape[0] # rows\n",
    "    N = shape[1] # cols\n",
    "    \n",
    "    for i in range(M):\n",
    "        for j in range(N):\n",
    "            d = math.sqrt((i-M/2)**2 + (j-N/2)**2)\n",
    "            mask[i][j] = np.exp(-((d*d)/(2*D*D)))\n",
    "    return mask"
   ],
   "outputs": [],
   "metadata": {}
  },
  {
   "cell_type": "code",
   "execution_count": null,
   "source": [
    "if __name__ == '__main__':\n",
    "    img = cv2.imread('car.jpg',0) # read the image\n",
    "    img_float32 = np.float32(img)"
   ],
   "outputs": [],
   "metadata": {}
  },
  {
   "cell_type": "code",
   "execution_count": null,
   "source": [
    "    \"\"\" Question 1 \"\"\"\n",
    "    \n",
    "    # discreate fourier transform\n",
    "    dft = cv2.dft(img_float32, flags = cv2.DFT_COMPLEX_OUTPUT) \n",
    "    # shift the zero freq components\n",
    "    dft_shift = np.fft.fftshift(dft)"
   ],
   "outputs": [],
   "metadata": {}
  },
  {
   "cell_type": "code",
   "execution_count": null,
   "source": [
    "    mask = laplacianMask(img.shape, True)\n",
    "    # calculate magnitude of complex values\n",
    "    mask_to_display = cv2.magnitude(mask[:,:,0],mask[:,:,1])\n",
    "    # normalize mask values to 0-255 range to display\n",
    "    mask_to_display = cv2.normalize(mask_to_display, None, 0, 255, cv2.NORM_MINMAX)\n",
    "    # apply mask and inverse DFT\n",
    "    fshift = dft_shift * mask\n",
    "\n",
    "    f_ishift = np.fft.ifftshift(fshift)\n",
    "    img_back = cv2.idft(f_ishift) \n",
    "    \n",
    "    img_back = cv2.magnitude(img_back[:,:,0],img_back[:,:,1])\n",
    "    # normalize values back to 0-255 range\n",
    "    img_back = cv2.normalize(img_back, None, 0, 255, cv2.NORM_MINMAX)"
   ],
   "outputs": [],
   "metadata": {}
  },
  {
   "cell_type": "code",
   "execution_count": null,
   "source": [
    "    # showImages([img, img_back, mask_to_display], ['Input Image', 'Highpas Laplacian filtered image', 'Laplacian mask'], 30, 10)"
   ],
   "outputs": [],
   "metadata": {}
  },
  {
   "cell_type": "code",
   "execution_count": null,
   "source": [
    "    \"\"\" Question 2\"\"\"\n",
    "\n",
    "    f = np.fft.fft2(img) # fast fourier transform\n",
    "    fshift = np.fft.fftshift(f) # shift zero freq components to center\n",
    "\n",
    "    # creating a ideal highpassfilter mask with D=100\n",
    "    mask = idealHighpassFilter(img.shape, 100)\n",
    "\n",
    "    # applying the mask\n",
    "    masked = fshift * mask\n",
    "\n",
    "    # taking magnitude of result\n",
    "    mask_spectrum = np.abs(masked)\n",
    "    # normalize into 0-255 range\n",
    "    mask_spectrum = cv2.normalize(mask_spectrum, None, 0, 255, cv2.NORM_MINMAX)\n",
    "\n",
    "    # shift back the zero freq components\n",
    "    f_ishift = np.fft.ifftshift(masked)\n",
    "    img_back = np.fft.ifft2(f_ishift) # inverse fast fourier transform\n",
    "    img_back = np.abs(img_back) # taking magnitude of image to display\n",
    "\n",
    "    # showImages([img, mask], ['original image', 'ideal highpass filter'], 20, 10)\n",
    "    # showImages([mask_spectrum, img_back], ['masked image', 'image after applying filter'], 20, 10)\n"
   ],
   "outputs": [],
   "metadata": {}
  },
  {
   "cell_type": "code",
   "execution_count": null,
   "source": [
    "    \"\"\" Question 3\"\"\"\n",
    "\n",
    "    f = np.fft.fft2(img) # fast fourier transform\n",
    "    fshift = np.fft.fftshift(f) # shift zero freq components to center\n",
    "    \n",
    "    fft2_spectrum = 20*np.log(np.abs(f))\n",
    "    inv_fft2_spectrum = np.abs(np.fft.ifft2(f))"
   ],
   "outputs": [],
   "metadata": {}
  },
  {
   "cell_type": "code",
   "execution_count": null,
   "source": [
    "    gaussmask = gaussianLowpass(img.shape, 20)\n",
    "    # applying the mask\n",
    "    masked = fshift * gaussmask\n",
    "\n",
    "    # shift back the zero freq components\n",
    "    f_ishift = np.fft.ifftshift(masked)\n",
    "    gauss_img_back = np.fft.ifft2(f_ishift) # inverse fast fourier transform\n",
    "    gauss_img_back = np.abs(gauss_img_back) # taking magnitude of image to display"
   ],
   "outputs": [],
   "metadata": {}
  },
  {
   "cell_type": "code",
   "execution_count": null,
   "source": [
    "    # creating a laplacian mask\n",
    "    lapmask = laplacianMask(img.shape, False)\n",
    "\n",
    "    # applying the mask\n",
    "    masked = fshift * lapmask\n",
    "\n",
    "    # shift back the zero freq components\n",
    "    f_ishift = np.fft.ifftshift(masked)\n",
    "    lap_img_back = np.fft.ifft2(f_ishift) # inverse fast fourier transform\n",
    "    lap_img_back = np.abs(lap_img_back) # taking magnitude of image to display\n"
   ],
   "outputs": [],
   "metadata": {}
  },
  {
   "cell_type": "code",
   "execution_count": null,
   "source": [
    "    width = 15\n",
    "    height = 5\n",
    "    showImages([img, fft2_spectrum, inv_fft2_spectrum], ['original image', 'fft2', 'ifft2'], width, height)\n",
    "    showImages([img, gaussmask, gauss_img_back], ['original image', 'Lowpass Gaussian filter', 'Image after applying filter'], width, height)\n",
    "    showImages([img, lapmask, lap_img_back], ['original image', 'Laplcian highpass filter', 'Image after applying filter'], width, height)"
   ],
   "outputs": [],
   "metadata": {}
  }
 ],
 "metadata": {
  "orig_nbformat": 4,
  "language_info": {
   "name": "python",
   "version": "3.9.6",
   "mimetype": "text/x-python",
   "codemirror_mode": {
    "name": "ipython",
    "version": 3
   },
   "pygments_lexer": "ipython3",
   "nbconvert_exporter": "python",
   "file_extension": ".py"
  },
  "kernelspec": {
   "name": "python3",
   "display_name": "Python 3.9.6 64-bit"
  },
  "interpreter": {
   "hash": "767d51c1340bd893661ea55ea3124f6de3c7a262a8b4abca0554b478b1e2ff90"
  }
 },
 "nbformat": 4,
 "nbformat_minor": 2
}